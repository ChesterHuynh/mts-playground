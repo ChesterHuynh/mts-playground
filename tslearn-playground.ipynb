{
 "cells": [
  {
   "cell_type": "code",
   "execution_count": 1,
   "metadata": {},
   "outputs": [
    {
     "data": {
      "application/javascript": [
       "\n",
       "            setTimeout(function() {\n",
       "                var nbb_cell_id = 1;\n",
       "                var nbb_unformatted_code = \"%load_ext nb_black\";\n",
       "                var nbb_formatted_code = \"%load_ext nb_black\";\n",
       "                var nbb_cells = Jupyter.notebook.get_cells();\n",
       "                for (var i = 0; i < nbb_cells.length; ++i) {\n",
       "                    if (nbb_cells[i].input_prompt_number == nbb_cell_id) {\n",
       "                        if (nbb_cells[i].get_text() == nbb_unformatted_code) {\n",
       "                             nbb_cells[i].set_text(nbb_formatted_code);\n",
       "                        }\n",
       "                        break;\n",
       "                    }\n",
       "                }\n",
       "            }, 500);\n",
       "            "
      ],
      "text/plain": [
       "<IPython.core.display.Javascript object>"
      ]
     },
     "metadata": {},
     "output_type": "display_data"
    }
   ],
   "source": [
    "%load_ext nb_black"
   ]
  },
  {
   "cell_type": "markdown",
   "metadata": {},
   "source": [
    "Following the tutorials on the <a href=\"https://tslearn.readthedocs.io/en/latest/\">tslearn docs</a>"
   ]
  },
  {
   "cell_type": "markdown",
   "metadata": {},
   "source": [
    "# Basics"
   ]
  },
  {
   "cell_type": "code",
   "execution_count": 95,
   "metadata": {},
   "outputs": [
    {
     "name": "stdout",
     "output_type": "stream",
     "text": [
      "The autoreload extension is already loaded. To reload it, use:\n",
      "  %reload_ext autoreload\n"
     ]
    }
   ],
   "source": [
    "import numpy as np\n",
    "import matplotlib.pyplot as plt\n",
    "%matplotlib inline\n",
    "import seaborn as sns\n",
    "sns.set()\n",
    "\n",
    "from tslearn.utils import to_time_series, to_time_series_dataset\n",
    "\n",
    "%load_ext autoreload\n",
    "%autoreload 2"
   ]
  },
  {
   "cell_type": "code",
   "execution_count": 96,
   "metadata": {},
   "outputs": [
    {
     "name": "stdout",
     "output_type": "stream",
     "text": [
      "(4, 1)\n"
     ]
    }
   ],
   "source": [
    "my_first_time_series = [1, 3, 4, 2]\n",
    "formatted_time_series = to_time_series(my_first_time_series)\n",
    "\n",
    "print(formatted_time_series.shape)"
   ]
  },
  {
   "cell_type": "code",
   "execution_count": 97,
   "metadata": {},
   "outputs": [
    {
     "name": "stdout",
     "output_type": "stream",
     "text": [
      "(2, 4, 1)\n"
     ]
    }
   ],
   "source": [
    "my_second_time_series = [1, 2, 4, 2]\n",
    "formatted_dataset = to_time_series_dataset([my_first_time_series, my_second_time_series])\n",
    "\n",
    "print(formatted_dataset.shape)"
   ]
  },
  {
   "cell_type": "code",
   "execution_count": 98,
   "metadata": {},
   "outputs": [
    {
     "name": "stdout",
     "output_type": "stream",
     "text": [
      "(3, 5, 1)\n"
     ]
    }
   ],
   "source": [
    "my_third_time_series = [1, 2, 4, 2, 2]\n",
    "formatted_dataset = to_time_series_dataset([my_first_time_series,\n",
    "                                            my_second_time_series,\n",
    "                                            my_third_time_series])\n",
    "\n",
    "# Extend missing entries with nan's\n",
    "print(formatted_dataset.shape)"
   ]
  },
  {
   "cell_type": "markdown",
   "metadata": {},
   "source": [
    "# Working with Standard Time Series Datasets"
   ]
  },
  {
   "cell_type": "code",
   "execution_count": 99,
   "metadata": {},
   "outputs": [
    {
     "name": "stdout",
     "output_type": "stream",
     "text": [
      "(1000, 128, 1)\n",
      "(1000,)\n"
     ]
    }
   ],
   "source": [
    "from tslearn.datasets import UCR_UEA_datasets\n",
    "X_train, y_train, X_test, y_test = UCR_UEA_datasets().load_dataset(\"TwoPatterns\")\n",
    "\n",
    "print(X_train.shape)\n",
    "print(y_train.shape)"
   ]
  },
  {
   "cell_type": "code",
   "execution_count": 100,
   "metadata": {},
   "outputs": [],
   "source": [
    "from tslearn.clustering import TimeSeriesKMeans\n",
    "km = TimeSeriesKMeans(n_clusters=3, metric=\"dtw\")\n",
    "# km.fit(X_train)"
   ]
  },
  {
   "cell_type": "markdown",
   "metadata": {},
   "source": [
    "# Methods for variable-length time series"
   ]
  },
  {
   "cell_type": "code",
   "execution_count": 108,
   "metadata": {},
   "outputs": [],
   "source": [
    "from tslearn.utils import to_time_series_dataset\n",
    "X = to_time_series_dataset([[1, 2, 3, 4], [1, 2, 3], [2, 5, 6, 7, 8, 9]])\n",
    "y = [0, 0, 1]"
   ]
  },
  {
   "cell_type": "markdown",
   "metadata": {},
   "source": [
    "## Supervised"
   ]
  },
  {
   "cell_type": "markdown",
   "metadata": {},
   "source": [
    "### Classification\n",
    "- K-nearest neighbors vote for Time Series\n",
    "- Time-series specific Support Vector Classifier"
   ]
  },
  {
   "cell_type": "code",
   "execution_count": 17,
   "metadata": {},
   "outputs": [
    {
     "data": {
      "text/plain": [
       "KNeighborsTimeSeriesClassifier(metric='dtw', metric_params=None, n_jobs=None,\n",
       "                               n_neighbors=2, verbose=0, weights='uniform')"
      ]
     },
     "execution_count": 17,
     "metadata": {},
     "output_type": "execute_result"
    }
   ],
   "source": [
    "from tslearn.neighbors import KNeighborsTimeSeriesClassifier\n",
    "knn = KNeighborsTimeSeriesClassifier(n_neighbors=2)\n",
    "knn.fit(X, y)"
   ]
  },
  {
   "cell_type": "code",
   "execution_count": 18,
   "metadata": {},
   "outputs": [
    {
     "data": {
      "text/plain": [
       "TimeSeriesSVC(C=1.0, cache_size=200, class_weight=None, coef0=0.0,\n",
       "              decision_function_shape='ovr', degree=3, gamma='auto',\n",
       "              kernel='gak', max_iter=-1, n_jobs=None, probability=False,\n",
       "              random_state=None, shrinking=True, tol=0.001, verbose=0)"
      ]
     },
     "execution_count": 18,
     "metadata": {},
     "output_type": "execute_result"
    }
   ],
   "source": [
    "from tslearn.svm import TimeSeriesSVC\n",
    "clf = TimeSeriesSVC(C=1.0, kernel=\"gak\")\n",
    "clf.fit(X, y)"
   ]
  },
  {
   "cell_type": "markdown",
   "metadata": {},
   "source": [
    "### Regression\n",
    "- Time-series specific Support Vector Regressor"
   ]
  },
  {
   "cell_type": "code",
   "execution_count": 19,
   "metadata": {},
   "outputs": [
    {
     "data": {
      "text/plain": [
       "TimeSeriesSVR(C=1.0, cache_size=200, coef0=0.0, degree=3, epsilon=0.1,\n",
       "              gamma='auto', kernel='gak', max_iter=-1, n_jobs=None,\n",
       "              shrinking=True, tol=0.001, verbose=0)"
      ]
     },
     "execution_count": 19,
     "metadata": {},
     "output_type": "execute_result"
    }
   ],
   "source": [
    "from tslearn.svm import TimeSeriesSVR\n",
    "clf = TimeSeriesSVR(C=1.0, kernel=\"gak\")\n",
    "y_reg = [1.3, 5.2, -12.2]\n",
    "clf.fit(X, y_reg)"
   ]
  },
  {
   "cell_type": "markdown",
   "metadata": {},
   "source": [
    "## Unsupervised"
   ]
  },
  {
   "cell_type": "markdown",
   "metadata": {},
   "source": [
    "### Nearest-Neighbor Search\n",
    "- K-neighbor search for Time Series"
   ]
  },
  {
   "cell_type": "code",
   "execution_count": 84,
   "metadata": {},
   "outputs": [
    {
     "data": {
      "text/plain": [
       "KNeighborsTimeSeries(metric='dtw', metric_params=None, n_jobs=None,\n",
       "                     n_neighbors=2, verbose=0)"
      ]
     },
     "execution_count": 84,
     "metadata": {},
     "output_type": "execute_result"
    }
   ],
   "source": [
    "from tslearn.neighbors import KNeighborsTimeSeries\n",
    "knn = KNeighborsTimeSeries(n_neighbors=2)\n",
    "knn.fit(X)\n",
    "# knn.kneighbors()    # Search for neighbors using series from `X` as queries\n",
    "# knn.kneighbors(X2)  # Search for neighbors using series from `X2` as queries"
   ]
  },
  {
   "cell_type": "markdown",
   "metadata": {},
   "source": [
    "### Clustering\n",
    "- Global Alignment Kernel (GAK) K-means\n",
    "- Time Series K-Means\n",
    "- <a href=\"https://en.wikipedia.org/wiki/Silhouette_(clustering)\">Silhouette_score</a>"
   ]
  },
  {
   "cell_type": "code",
   "execution_count": 28,
   "metadata": {},
   "outputs": [],
   "source": [
    "from tslearn.clustering import GlobalAlignmentKernelKMeans\n",
    "gak_km = GlobalAlignmentKernelKMeans(n_clusters=2)\n",
    "labels_gak = gak_km.fit_predict(X)"
   ]
  },
  {
   "cell_type": "code",
   "execution_count": 29,
   "metadata": {},
   "outputs": [],
   "source": [
    "from tslearn.clustering import TimeSeriesKMeans\n",
    "km = TimeSeriesKMeans(n_clusters=2, metric=\"dtw\")\n",
    "labels = km.fit_predict(X)\n",
    "km_bis = TimeSeriesKMeans(n_clusters=2, metric=\"softdtw\")\n",
    "labels_bis = km_bis.fit_predict(X)"
   ]
  },
  {
   "cell_type": "code",
   "execution_count": 30,
   "metadata": {},
   "outputs": [
    {
     "data": {
      "text/plain": [
       "0.5875727602071013"
      ]
     },
     "execution_count": 30,
     "metadata": {},
     "output_type": "execute_result"
    }
   ],
   "source": [
    "from tslearn.clustering import TimeSeriesKMeans, silhouette_score\n",
    "km = TimeSeriesKMeans(n_clusters=2, metric=\"dtw\")\n",
    "labels = km.fit_predict(X)\n",
    "silhouette_score(X, labels, metric=\"dtw\")"
   ]
  },
  {
   "cell_type": "markdown",
   "metadata": {},
   "source": [
    "### Barycenter Computation\n",
    "- DTW Barycenter Averaging\n",
    "- Soft-DTW Barycenter"
   ]
  },
  {
   "cell_type": "code",
   "execution_count": 31,
   "metadata": {},
   "outputs": [],
   "source": [
    "from tslearn.barycenters import dtw_barycenter_averaging\n",
    "bar = dtw_barycenter_averaging(X, barycenter_size=3)"
   ]
  },
  {
   "cell_type": "code",
   "execution_count": 34,
   "metadata": {},
   "outputs": [],
   "source": [
    "from tslearn.barycenters import softdtw_barycenter\n",
    "from tslearn.utils import ts_zeros\n",
    "initial_barycenter = ts_zeros(sz=5)  # Zero matrix of size 5\n",
    "bar = softdtw_barycenter(X, init=initial_barycenter)"
   ]
  },
  {
   "cell_type": "markdown",
   "metadata": {},
   "source": [
    "## Model selection"
   ]
  },
  {
   "cell_type": "code",
   "execution_count": 36,
   "metadata": {},
   "outputs": [
    {
     "data": {
      "text/plain": [
       "GridSearchCV(cv=KFold(n_splits=2, random_state=0, shuffle=True),\n",
       "             error_score=nan,\n",
       "             estimator=KNeighborsTimeSeriesClassifier(metric='dtw',\n",
       "                                                      metric_params=None,\n",
       "                                                      n_jobs=None,\n",
       "                                                      n_neighbors=5, verbose=0,\n",
       "                                                      weights='uniform'),\n",
       "             iid='deprecated', n_jobs=None, param_grid={'n_neighbors': [1, 5]},\n",
       "             pre_dispatch='2*n_jobs', refit=True, return_train_score=False,\n",
       "             scoring=None, verbose=0)"
      ]
     },
     "execution_count": 36,
     "metadata": {},
     "output_type": "execute_result"
    }
   ],
   "source": [
    "from sklearn.model_selection import KFold, GridSearchCV\n",
    "from tslearn.neighbors import KNeighborsTimeSeriesClassifier\n",
    "\n",
    "knn = KNeighborsTimeSeriesClassifier(metric=\"dtw\")\n",
    "p_grid = {\"n_neighbors\": [1, 5]}\n",
    "\n",
    "cv = KFold(n_splits=2, shuffle=True, random_state=0)\n",
    "clf = GridSearchCV(estimator=knn, param_grid=p_grid, cv=cv)\n",
    "clf.fit(X, y)"
   ]
  },
  {
   "cell_type": "markdown",
   "metadata": {},
   "source": [
    "## Resampling"
   ]
  },
  {
   "cell_type": "markdown",
   "metadata": {},
   "source": [
    "### Time-Series Resampler"
   ]
  },
  {
   "cell_type": "code",
   "execution_count": 37,
   "metadata": {},
   "outputs": [
    {
     "data": {
      "text/plain": [
       "(3, 6, 1)"
      ]
     },
     "execution_count": 37,
     "metadata": {},
     "output_type": "execute_result"
    }
   ],
   "source": [
    "from tslearn.preprocessing import TimeSeriesResampler\n",
    "\n",
    "resampled_X = TimeSeriesResampler(sz=X.shape[1]).fit_transform(X)\n",
    "resampled_X.shape"
   ]
  },
  {
   "cell_type": "markdown",
   "metadata": {},
   "source": [
    "# Dynamic Time Warping\n",
    "\n",
    "DTW is a similarity measure between time series. In general, DTW is applied to two time series $x = (x_1, \\cdots, x_n)$ and $y = (y_1, \\cdots, y_m)$, where each element $x_i$ and $y_j$ are assumed to be in $\\mathbb{R}^t$. So, $x \\in \\mathbb{R}^{n \\times t}$ and $y \\in \\mathbb{R}^{m \\times t}$.\n",
    "\n",
    "For a simple case of $x = (x_1, \\cdots, x_n)$, where each $x_i \\in \\mathbb{R}$, and $y = (y_1, \\cdots, y_m)$, where each $y_j \\in \\mathbb{R}$, for a distance metric $d$, we can construct a $n \\times m$ distance matrix $D$ with entries $D_{i, j} = d(x_i, y_j)$. DTW between $x$ and $y$ is formulated as the following optimization problem:\n",
    "\n",
    "$$\n",
    "DTW(x,y) = \\min_{\\pi} \\sqrt{\\sum_{(i, j) \\in \\pi} d(x_i, y_j)^2}\n",
    "$$\n",
    "\n",
    "where $\\pi = [\\pi_0, \\cdots, \\pi_K]$ is a list of indices in the distance matrix $D$ such that the path is a traversal of only downs and rights from the top-left corner $(1,1)$ to the bottom-right corner $(n, m)$.\n",
    "\n",
    "This is done by the classical dynamic programming problem approach to computing the <a href=\"https://algorithms.tutorialhorizon.com/dynamic-programming-minimum-cost-path-problem/\">minimum cost path in a grid</a> from the corner $(1, 1)$ to the corner $(n, m)$ using only cardinal movements of down and right. The total cost of the path is $DTW(x, y)$, each entry in the path can be seen as a temporal alignment of time series such that Euclidean distance between aligned time series is minimal. The memoized algorithm runs in $O(mn)$ time.\n",
    "\n",
    "## Properties\n",
    "- $\\forall x, y, DTW(x,y) \\geq 0$\n",
    "- $\\forall x, DTW(x,x) = 0$"
   ]
  },
  {
   "cell_type": "code",
   "execution_count": 110,
   "metadata": {},
   "outputs": [
    {
     "name": "stdout",
     "output_type": "stream",
     "text": [
      "[(0, 0), (1, 1), (2, 2), (3, 3), (4, 3), (5, 3), (6, 4), (7, 5), (7, 6), (8, 7)]\n",
      "2.6457513110645907\n"
     ]
    }
   ],
   "source": [
    "from tslearn.metrics import dtw, dtw_path\n",
    "\n",
    "x = to_time_series([1,2,4,2,4,1,5,7,2])\n",
    "y = to_time_series([2,2,4,3,5,7,7,2])\n",
    "\n",
    "dtw_score = dtw(x, y)\n",
    "\n",
    "optimal_path, dtw_score = dtw_path(x, y)\n",
    "print(optimal_path, dtw_score, sep=\"\\n\")"
   ]
  },
  {
   "cell_type": "markdown",
   "metadata": {},
   "source": [
    "## Additional constraints\n",
    "Two methods to force paths to lie closer to the diagonal\n",
    "- Sakoe-Chiba band\n",
    "    - Parametrized by a radius $r$, also called \"warping window size\"\n",
    "    - Bounds the number of off-diagonal elements to consider\n",
    "- Itakura parallelogram\n",
    "    - Sets a maximum slope $s$ for alignment paths\n",
    "- Upper bounding warping path length (discard complex paths)"
   ]
  },
  {
   "cell_type": "code",
   "execution_count": 111,
   "metadata": {},
   "outputs": [
    {
     "name": "stdout",
     "output_type": "stream",
     "text": [
      "Sakoe-Chiba: 2.6457513110645907\n"
     ]
    }
   ],
   "source": [
    "sc_cost = dtw(x, y, global_constraint=\"sakoe_chiba\", sakoe_chiba_radius=3)\n",
    "print(f\"Sakoe-Chiba: {sc_cost}\")"
   ]
  },
  {
   "cell_type": "code",
   "execution_count": 112,
   "metadata": {},
   "outputs": [
    {
     "name": "stdout",
     "output_type": "stream",
     "text": [
      "Itakura: 3.3166247903554\n"
     ]
    }
   ],
   "source": [
    "ita_cost = dtw(x, y, global_constraint=\"itakura\", itakura_max_slope=2)\n",
    "print(f\"Itakura: {ita_cost}\")"
   ]
  },
  {
   "cell_type": "code",
   "execution_count": 113,
   "metadata": {},
   "outputs": [
    {
     "name": "stdout",
     "output_type": "stream",
     "text": [
      "Bounded cost: 4.795831523312719\n"
     ]
    }
   ],
   "source": [
    "from tslearn.metrics import dtw_limited_warping_length\n",
    "bounded_cost = dtw_limited_warping_length(x, y, len(optimal_path)-1)\n",
    "print(f\"Bounded cost: {bounded_cost}\")"
   ]
  },
  {
   "cell_type": "markdown",
   "metadata": {},
   "source": [
    "## Barycenters\n",
    "\n",
    "Computing barycenters (also known as Fréchet means) of a set $\\mathcal{D}$ for DTW corresponds to the following optimization problem:\n",
    "$$\n",
    "\\min_{\\mu}\\sum_{x \\in \\mathcal{D}} DTW(\\mu, x)^2\n",
    "$$\n",
    "Optimizing this quantity can be done through the DTW Barycenter Averaging (DBA) algorithm."
   ]
  },
  {
   "cell_type": "code",
   "execution_count": 114,
   "metadata": {},
   "outputs": [],
   "source": [
    "from tslearn.barycenters import dtw_barycenter_averaging\n",
    "# b = dtw_barycenter_averaging(dataset)"
   ]
  },
  {
   "cell_type": "markdown",
   "metadata": {},
   "source": [
    "## soft-DTW\n",
    "\n",
    "DTW is not differentiable w.r.t its inputs because of the non-differentiability of the $\\min$ operation. Thus, we replace with a $\\mathrm{softmin}$ operator:\n",
    "\n",
    "$$\n",
    "\\mathrm{softmin}_{\\gamma}(a_1, \\cdots, a_n) = -\\gamma \\log \\sum_i e^{-a_i/\\gamma}\n",
    "$$\n",
    "\n",
    "which depends on a hyper-parameter $\\gamma$ that controls the smoothing of the resulting metric (DTW corresponds to the limit case $\\gamma \\rightarrow 0$.\n",
    "\n",
    "Barycenters for soft-DTW can be estimated through gradient descent."
   ]
  },
  {
   "cell_type": "code",
   "execution_count": 115,
   "metadata": {},
   "outputs": [
    {
     "name": "stdout",
     "output_type": "stream",
     "text": [
      "Soft-DTW: 6.930678471361954\n"
     ]
    }
   ],
   "source": [
    "from tslearn.metrics import soft_dtw\n",
    "soft_dtw_score = soft_dtw(x, y, gamma=0.1)\n",
    "\n",
    "print(f\"Soft-DTW: {soft_dtw_score}\")"
   ]
  },
  {
   "cell_type": "code",
   "execution_count": 134,
   "metadata": {},
   "outputs": [
    {
     "data": {
      "image/png": "[encoded data removed]",
      "text/plain": [
       "<Figure size 1800x1200 with 1 Axes>"
      ]
     },
     "metadata": {},
     "output_type": "display_data"
    }
   ],
   "source": [
    "gammas = np.arange(0.01, 2.01, 0.01)\n",
    "dtw_score = dtw(x, y)\n",
    "soft_dtw_scores = np.array([soft_dtw(x, y, gamma=g) for g in gammas])\n",
    "\n",
    "fig, ax = plt.subplots(dpi=300)\n",
    "sns.lineplot(gammas, soft_dtw_scores, ax=ax, label=\"soft-DTW\")\n",
    "sns.lineplot(gammas, dtw_score, ax=ax, label=\"DTW\")\n",
    "ax.legend()\n",
    "ax.set(\n",
    "    title=r\"Soft-DTW with Various $\\gamma$ Values\",\n",
    "    xlabel=r\"$\\gamma$\",\n",
    "    ylabel=\"soft-DTW score\"\n",
    ");"
   ]
  },
  {
   "cell_type": "code",
   "execution_count": 82,
   "metadata": {},
   "outputs": [],
   "source": [
    "from tslearn.barycenters import softdtw_barycenter\n",
    "# b = softdtw_barycenter(dataset, gamma=0.1)"
   ]
  },
  {
   "cell_type": "code",
   "execution_count": null,
   "metadata": {},
   "outputs": [],
   "source": []
  }
 ],
 "metadata": {
  "kernelspec": {
   "display_name": "wgsegment",
   "language": "python",
   "name": "wgsegment"
  },
  "language_info": {
   "codemirror_mode": {
    "name": "ipython",
    "version": 3
   },
   "file_extension": ".py",
   "mimetype": "text/x-python",
   "name": "python",
   "nbconvert_exporter": "python",
   "pygments_lexer": "ipython3",
   "version": "3.8.2"
  }
 },
 "nbformat": 4,
 "nbformat_minor": 4
}
